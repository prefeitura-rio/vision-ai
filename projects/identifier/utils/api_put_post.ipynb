{
 "cells": [
  {
   "cell_type": "code",
   "execution_count": null,
   "id": "fb0facb6-e5e4-4178-b5fe-ae92c35316b8",
   "metadata": {},
   "outputs": [],
   "source": [
    "import warnings\n",
    "warnings.filterwarnings('ignore')\n",
    "%reload_ext autoreload\n",
    "%autoreload 2\n",
    "from vision_ai_api import APIVisionAI\n",
    "from IPython.display import Markdown\n",
    "import pandas as pd\n",
    "import io\n",
    "import requests\n",
    "import json"
   ]
  },
  {
   "cell_type": "markdown",
   "id": "b823522c-4581-4d32-82da-dcbed1ff04e4",
   "metadata": {},
   "source": [
    "## API\n"
   ]
  },
  {
   "cell_type": "markdown",
   "id": "f169b674",
   "metadata": {},
   "source": []
  },
  {
   "cell_type": "code",
   "execution_count": null,
   "id": "c86f88ab-2125-4453-a901-5b75ebdc3025",
   "metadata": {},
   "outputs": [],
   "source": [
    "def get_objects_table_from_sheets(\n",
    "    url: str = \"https://docs.google.com/spreadsheets/d/122uOaPr8YdW5PTzrxSPF-FD0tgco596HqgB7WK7cHFw/edit#gid=1672006844\",\n",
    "):\n",
    "    request_url = url.replace(\"edit#gid=\", \"export?format=csv&gid=\")\n",
    "    response = requests.get(request_url)\n",
    "    dataframe = pd.read_csv(io.StringIO(response.content.decode(\"utf-8\")), dtype=str)\n",
    "    dataframe[\"label\"] = dataframe[\"label\"].fillna(\"null\")\n",
    "    dataframe = dataframe[dataframe[\"use\"] == \"1\"]\n",
    "    dataframe = dataframe.drop(columns=[\"use\"])\n",
    "\n",
    "    return dataframe\n",
    "\n",
    "\n",
    "df = get_objects_table_from_sheets()\n",
    "labels_to_put = df.to_dict(\"records\")"
   ]
  },
  {
   "cell_type": "code",
   "execution_count": null,
   "id": "09418e60-4d5a-4771-a8c6-fa513b0ba41b",
   "metadata": {},
   "outputs": [],
   "source": [
    "with open(\"secrets.json\") as f:\n",
    "    s = json.load(f)\n",
    "\n",
    "vision_ai_api = APIVisionAI(\n",
    "    username=s.get(\"username\"),\n",
    "    password=s.get(\"password\"),\n",
    ")\n",
    "\n",
    "objects = vision_ai_api._get_all_pages(\"/objects\")\n",
    "cameras = vision_ai_api._get_all_pages(\"/cameras\", page_size=3000)\n",
    "prompts = vision_ai_api._get_all_pages(\"/prompts\")"
   ]
  },
  {
   "cell_type": "code",
   "execution_count": null,
   "id": "ed1bd169-3bcf-4612-bc02-eeedda6e4415",
   "metadata": {},
   "outputs": [],
   "source": [
    "## GET A OBJECT Parameters\n",
    "object_slug = \"traffic\"\n",
    "object_parameters = vision_ai_api.get_item_from_slug(slug=object_slug, data=objects)"
   ]
  },
  {
   "cell_type": "code",
   "execution_count": null,
   "id": "34129fce-0137-4d31-870b-2c8c0ab11c30",
   "metadata": {
    "scrolled": true,
    "tags": []
   },
   "outputs": [],
   "source": [
    "## GET ALL active cameras\n",
    "\n",
    "cameras_ativas = vision_ai_api._get_all_pages(\n",
    "    \"/agents/89173394-ee85-4613-8d2b-b0f860c26b0f/cameras\"\n",
    ")\n",
    "cameras_ativas_ids = [f\"/cameras/{d.get('id')}\" for d in cameras_ativas]\n",
    "cameras_agent = vision_ai_api._get_all_pages(cameras_ativas_ids)"
   ]
  },
  {
   "cell_type": "code",
   "execution_count": null,
   "id": "6a580fab-fb41-40c0-b148-9e68a312f756",
   "metadata": {},
   "outputs": [],
   "source": [
    "# # ### POST CAMERA TO AGENT\n",
    "\n",
    "# cameras_to_input = [\n",
    "#     '222',\n",
    "#     '99',\n",
    "#     '793',\n",
    "#     '100',\n",
    "#     '794',\n",
    "#     '793',\n",
    "#     '1613',\n",
    "#     '1612',\n",
    "#     '795',\n",
    "#     '1594',\n",
    "#     '10',\n",
    "#     '2',\n",
    "#     '1624',\n",
    "#     '108',\n",
    "#     '1234',\n",
    "#     '1231',\n",
    "#     \"1175\",\n",
    "#     \"1316\",\n",
    "#     \"1189\",\n",
    "#     \"276\",\n",
    "#     \"33\",\n",
    "#     \"1472\",\n",
    "#     \"3306\",\n",
    "#     \"221\",\n",
    "#     \"52\",\n",
    "#     \"270\",\n",
    "#     \"96\",\n",
    "#     \"1615\",\n",
    "#     \"1623\",\n",
    "#     \"211\",\n",
    "#     \"1496\",\n",
    "#     \"1497\",\n",
    "#     \"1390\",\n",
    "#     \"211\",\n",
    "#     \"102\",\n",
    "#     \"362\",\n",
    "#     \"432\",\n",
    "#     \"260\"\n",
    "# ]\n",
    "\n",
    "# agent_id = \"89173394-ee85-4613-8d2b-b0f860c26b0f\"\n",
    "\n",
    "\n",
    "# for camera_id in cameras_to_input:\n",
    "#     camera_id = camera_id.zfill(6)\n",
    "#     r = vision_ai_api._post(\n",
    "#         path=f'/agents/{agent_id}/cameras?camera_id={camera_id}'\n",
    "#     )\n",
    "#     print(r)"
   ]
  },
  {
   "cell_type": "code",
   "execution_count": null,
   "id": "03f41717-f4b8-4456-bb57-9d74bfbf76ce",
   "metadata": {},
   "outputs": [],
   "source": [
    "print(\n",
    "    '\\n### Role \\n\\n- **Urban Road Image Analyst**\\n\\n### Objective\\n    \\n- **Task**: Analyze CCTV images, specifically focusing on elements related to urban road conditions.\\n\\n### Input\\n\\n- **Data Provided**: A CCTV image.\\n\\n### Objects Table \\n\\n- **Guidance**: Use the table below for object classification, adhering to the specified criteria and identification guides.\\n\\n| object               | label             | criteria                                                              | identification_guide                                                                                                                                                                                                                                                                                               |\\n|:---------------------|:------------------|:----------------------------------------------------------------------|:-------------------------------------------------------------------------------------------------------------------------------------------------------------------------------------------------------------------------------------------------------------------------------------------------------------------|\\n| image_condition      | poor              | The image has visual interference affecting clarity.                  | Examine the image for uniform grey or green color or distortions indicating data loss or image corruption.                                                                                                                                                                                                         |\\n| image_condition      | clean             | The image is clear and free of visual interferences.                  | Clean image with absence of uniform grey or green color or distortions indicating data loss or image corruption.                                                                                                                                                                                                   |\\n| image_description    | null              | Image description and visual elements from the image.                 | Provide a detailed, unbiased description of the image, focusing on visible aspects for analysis. Minimum word count: 500.                                                                                                                                                                                          |\\n| road_blockade        | free              | The road is clear, without any obstructions impeding traffic flow.    | Confirm the road is free from obstructions. Normal flow of cars, bicycles, and other vehicles indicates a \\'free\\' road label. Natural water bodies (canals, rivers, lakes, etc) adjacent to but not obstructing the road also indicate a clear path. Trees alongside or near the road indicates a \\'free\\' road label |\\n| road_blockade        | partially_blocked | Obstructions present that partially impede traffic but allow passage. | Look for indications of partial road coverage by any elements that slow trafic flow. Partial road coverage by water should be considered.                                                                                                                                                                          |\\n| road_blockade        | totally_blocked   | The road is completely inaccessible due to obstructions.              | Identify any significant obstructions like extensive water flooding that make the road entirely impassable, offering no alternative paths.                                                                                                                                                                         |\\n| traffic_ease_vehicle | easy              | Minimal or no water on the road.                                      | Look for clear, dry, or slightly wet road surfaces and small, manageable puddles that do not interfere with traffic                                                                                                                                                                                                |\\n| traffic_ease_vehicle | difficult         | A partial portion of the road is covered with medium water level      | Identify areas where water coverage is extensive and high, causing notable hindrance to vehicle.                                                                                                                                                                                                                   |\\n| traffic_ease_vehicle | impossibe         | Complete submergence of the road with high water level                | Identify a scenarios where the road is entirely submerged/flooded, making it completely impassable for vehicles.                                                                                                                                                                                                   |\\n| traffic_ease_vehicle | moderate          | Presence of significant, larger puddles                               | Detect larger puddles that could cause minor traffic disruptions but are still navigable for most vehicles.                                                                                                                                                                                                        |\\n| water_in_road        | false             | No water present on the road; the road is completely dry.             | Look for dry road surface. A dry road should show no signs of moisture, including the absence of puddles, wet spots, and any kind of reflections commonly associated with water.                                                                                                                                   |\\n| water_in_road        | true              | Presence of water covering  the road.                                 | Identify areas where water is visibly covering the road surface or slightly wet. Look for consistent, widespread reflections.                                                                                                                                                                                      |\\n| water_level          | flodding          | Water completely covers the road\\'s surface.                           | Identify areas where water completely submerges the road. Visible cues include a lack of visible road surface due to water coverage.                                                                                                                                                                               |\\n| water_level          | low_indifferent   | No or minimal water on the road\\'s surface.                            | Inspect for dry or slightly wet road. Minimal water is indicated by isolated, small or shallow puddles.  Look for areas with shaddows.                                                                                                                                                                             |\\n| water_level          | puddle            | Water covers a significant part of the road.                          | Look for areas where water significantly covers the road. with widespread reflections.                                                                                                                                                                                                                             |\\n\\n### Scenarios examples:\\n\\n- Example 1: Dry Road with Clear Traffic\\n```json\\n{\\n    \"objects\": [\\n        {\\n            \"object\": \"image_condition\",\\n            \"label_explanation\": \"Image is clear, no distortion or data loss.\",\\n            \"label\": \"clean\"\\n        },\\n        {\\n            \"object\": \"image_description\",\\n            \"label_explanation\": \"Urban road in daylight with vehicles, clear weather.\",\\n            \"label\": \"null\"\\n        },\\n        {\\n            \"object\": \"water_in_road\",\\n            \"label_explanation\": \"Road surface is dry, no signs of water.\",\\n            \"label\": \"false\"\\n        },\\n        {\\n            \"object\": \"water_level\",\\n            \"label_explanation\": \"No water present, road surface completely dry.\",\\n            \"label\": \"low_indifferent\"\\n        },\\n        {\\n            \"object\": \"traffic_ease_vehicle\",\\n            \"label_explanation\": \"Traffic is flowing smoothly, no hindrance observed.\",\\n            \"label\": \"easy\"\\n        },\\n        {\\n            \"object\": \"road_blockade\",\\n            \"label_explanation\": \"Road is completely free of obstructions.\",\\n            \"label\": \"free\"\\n        }\\n    ]\\n}\\n```\\n\\n- Example 2: Partially Flooded Road with Moderate Obstructions\\n```json\\n{\\n    \"objects\": [\\n        {\\n            \"object\": \"image_condition\",\\n            \"label_explanation\": \"Slight blurriness in the image, but generally clear.\",\\n            \"label\": \"poor\"\\n        },\\n        {\\n            \"object\": \"image_description\",\\n            \"label_explanation\": \"Moderate traffic on an urban road with visible puddles.\",\\n            \"label\": \"null\"\\n        },\\n        {\\n            \"object\": \"water_in_road\",\\n            \"label_explanation\": \"Puddles observed on parts of the road.\",\\n            \"label\": \"true\"\\n        },\\n        {\\n            \"object\": \"water_level\",\\n            \"label_explanation\": \"Water covers some parts of the road, forming puddles.\",\\n            \"label\": \"puddle\"\\n        },\\n        {\\n            \"object\": \"traffic_ease_vehicle\",\\n            \"label_explanation\": \"Traffic moving slower due to water on road.\",\\n            \"label\": \"moderate\"\\n        },\\n        {\\n            \"object\": \"road_blockade\",\\n            \"label_explanation\": \"Partial obstructions due to water, but traffic can pass.\",\\n            \"label\": \"partially_blocked\"\\n        }\\n    ]\\n}\\n```\\n\\n- Example 3: Fully Flooded and Blocked Road\\n```json\\n{\\n    \"objects\": [\\n        {\\n            \"object\": \"image_condition\",\\n            \"label_explanation\": \"High quality, clear image with no issues.\",\\n            \"label\": \"clean\"\\n        },\\n        {\\n            \"object\": \"image_description\",\\n            \"label_explanation\": \"Road completely submerged in water, no traffic visible.\",\\n            \"label\": \"null\"\\n        },\\n        {\\n            \"object\": \"water_in_road\",\\n            \"label_explanation\": \"Road is fully covered in water.\",\\n            \"label\": \"true\"\\n        },\\n        {\\n            \"object\": \"water_level\",\\n            \"label_explanation\": \"Water level high, road completely submerged.\",\\n            \"label\": \"flooding\"\\n        },\\n        {\\n            \"object\": \"traffic_ease_vehicle\",\\n            \"label_explanation\": \"Traffic is impossible due to severe flooding.\",\\n            \"label\": \"impossible\"\\n        },\\n        {\\n            \"object\": \"road_blockade\",\\n            \"label_explanation\": \"Road is entirely blocked by flooding, impassable.\",\\n            \"label\": \"totally_blocked\"\\n        }\\n    ]\\n}\\n```\\n\\n### Output\\n\\n**Output Order**\\n\\n- **Sequence**: Follow this order in your analysis: \\n    1. image_condition: clean or poor\\n    2. image_description: allways null\\n    3. water_in_road: true or false\\n    4. water_level: low_indifferent, puddle or flooding\\n    5. traffic_ease_vehicle: easy, moderate, difficult or impossible\\n    6. road_blockade: free, partially_blocked or impossible\\n\\n- **Importance**: Adhering to this sequence ensures logical and coherent analysis, with each step informing the subsequent ones.\\n\\n\\n\\n**Example Format** \\n\\n- Present findings in a structured JSON format, following the provided example.\\n        \\n```json\\n{\\n    \"objects\": [\\n        {\\n            \"object\": \"<Object from objects>\",\\n            \"label_explanation\": \"<Visual description of the image given the object context>\",\\n            \"label\": \"<Selected label from objects>\"\\n        }\\n    ]\\n}\\n```\\n\\n- **Requirement**: Each label_explanation should be a 500-word interpretation of the image, demonstrating a deep understanding of the visible elements.\\n\\n'\n",
    ")"
   ]
  },
  {
   "cell_type": "code",
   "execution_count": null,
   "id": "62f73134-29cc-4475-9940-8eb7b63d522d",
   "metadata": {},
   "outputs": [],
   "source": []
  },
  {
   "cell_type": "code",
   "execution_count": null,
   "id": "8c2b8fe3-d03d-482c-b4e6-40c6b3bff4ef",
   "metadata": {},
   "outputs": [],
   "source": []
  },
  {
   "cell_type": "code",
   "execution_count": null,
   "id": "14ec928b-19a6-4e69-9c40-73798706ee0d",
   "metadata": {},
   "outputs": [],
   "source": [
    "### PUT PROMPT\n",
    "\n",
    "\n",
    "prompt_text = \"\"\"\n",
    "\n",
    "### Role \n",
    "\n",
    "- **Urban Road Image Analyst**\n",
    "\n",
    "### Objective\n",
    "    \n",
    "- **Task**: Analyze CCTV images from Rio de Janeiro, specifically focusing on elements related to urban road conditions.\n",
    "\n",
    "### Input\n",
    "\n",
    "- **Data Provided**: A CCTV image of an urban road.\n",
    "\n",
    "### Process\n",
    "\n",
    "1. **Image Condition Assessment**\n",
    "    - **Action**: Examine the image for uniform color patches or distortions indicating data loss or image corruption.\n",
    "    - **Decision**: Assign a label to 'image_condition' reflecting the image's quality based on observed uniform colors, distortions, and blurriness.\n",
    "    \n",
    "2. **Detailed Image Description**\n",
    "    - **Action**: Provide a detailed, unbiased description of the image, focusing on visible aspects for analysis. Minimum word count: 500.\n",
    "    - **Guideline**: Base your description solely on visible elements in the image, avoiding external assumptions or contexts.\n",
    "\n",
    "3. **Object Analysis and Classification**\n",
    "    - **Action**: Use the detailed image description to classify each object per the 'Objects Table'.\n",
    "    - **Requirement**: Support each classification with clear evidence from the image.\n",
    "\n",
    "4. **Structured Output Presentation**\n",
    "    - **Format**: Present findings in a structured JSON format, following the provided example.\n",
    "\n",
    "### Objects Table \n",
    "\n",
    "- **Guidance**: Use the table below for object classification, adhering to the specified criteria and identification guides.\n",
    "\n",
    "{objects_table_md}\n",
    "\n",
    "\n",
    "### Output\n",
    "\n",
    "- **Example Format**: \n",
    "        \n",
    "```json\n",
    "{output_example}\n",
    "```\n",
    "\n",
    "- **Requirement**: Each label explanation should be a 300-word interpretation of the image, demonstrating a deep understanding of the visible elements.\n",
    "\n",
    "**Output Order**\n",
    "\n",
    "- **Sequence**: Follow this order in your analysis: \n",
    "    1. image_condition\n",
    "    2. image_description\n",
    "    3. water_in_road\n",
    "    4. water_level\n",
    "    5. traffic_ease_vehicle\n",
    "    6. road_blockade\n",
    "\n",
    "- **Importance**: Adhering to this sequence ensures logical and coherent analysis, with each step informing the subsequent ones.\n",
    "\n",
    "\"\"\"\n",
    "\n",
    "\n",
    "prompt_parameters = vision_ai_api._get(\"/prompts\").get(\"items\")[0]\n",
    "prompt_id = prompt_parameters.get(\"id\")\n",
    "request_body = {\n",
    "    \"name\": prompt_parameters.get(\"name\"),\n",
    "    \"model\": prompt_parameters.get(\"model\"),\n",
    "    \"prompt_text\": prompt_text,\n",
    "    \"max_output_token\": prompt_parameters.get(\"max_output_token\"),\n",
    "    \"temperature\": prompt_parameters.get(\"temperature\"),\n",
    "    \"top_k\": prompt_parameters.get(\"top_k\"),\n",
    "    \"top_p\": prompt_parameters.get(\"top_p\"),\n",
    "}\n",
    "\n",
    "\n",
    "r = vision_ai_api._put(path=f\"/prompts/{prompt_id}\", json_data=request_body)\n",
    "print(json.dumps(r.json(), indent=2))"
   ]
  },
  {
   "cell_type": "code",
   "execution_count": null,
   "id": "9ebe441f-fc6d-42b6-b9fa-68fd8a3ad137",
   "metadata": {},
   "outputs": [],
   "source": [
    "prompt_parameters = vision_ai_api._get(\"/prompts\").get(\"items\")"
   ]
  },
  {
   "cell_type": "code",
   "execution_count": null,
   "id": "6756766a-e72d-4fcf-a84b-e82972981c39",
   "metadata": {},
   "outputs": [],
   "source": [
    "prompt_parameters"
   ]
  },
  {
   "cell_type": "code",
   "execution_count": null,
   "id": "8ceb6469-0476-4b6f-8fa6-5427d3e9f4f9",
   "metadata": {},
   "outputs": [],
   "source": [
    "### POST PROMPT\n",
    "\n",
    "\n",
    "prompt_parameters = vision_ai_api._get(\"/prompts\").get(\"items\")[0]\n",
    "prompt_id = prompt_parameters.get(\"id\")\n",
    "request_body = {\n",
    "    \"name\": \"test\",\n",
    "    \"model\": prompt_parameters.get(\"model\"),\n",
    "    \"prompt_text\": \"test\",\n",
    "    \"max_output_token\": prompt_parameters.get(\"max_output_token\"),\n",
    "    \"temperature\": prompt_parameters.get(\"temperature\"),\n",
    "    \"top_k\": prompt_parameters.get(\"top_k\"),\n",
    "    \"top_p\": prompt_parameters.get(\"top_p\"),\n",
    "}\n",
    "\n",
    "\n",
    "r = vision_ai_api._post(path=f\"/prompts\", json_data=request_body)\n",
    "print(json.dumps(r.json(), indent=2))"
   ]
  },
  {
   "cell_type": "code",
   "execution_count": null,
   "id": "26494195-6e7f-4ddb-80ff-16adfd2bd5c1",
   "metadata": {},
   "outputs": [],
   "source": []
  },
  {
   "cell_type": "code",
   "execution_count": null,
   "id": "162e9be5-9c09-4a0b-b851-13817f3775d0",
   "metadata": {},
   "outputs": [],
   "source": []
  },
  {
   "cell_type": "code",
   "execution_count": null,
   "id": "71b1c621-fd00-45aa-a5c2-71974b9c7d59",
   "metadata": {},
   "outputs": [],
   "source": []
  },
  {
   "cell_type": "code",
   "execution_count": null,
   "id": "a9bca6e1-1702-4bb3-9f9a-302cde1afc65",
   "metadata": {},
   "outputs": [],
   "source": []
  },
  {
   "cell_type": "code",
   "execution_count": null,
   "id": "c734178b-23c1-45a3-89c0-373337c4e691",
   "metadata": {},
   "outputs": [],
   "source": []
  }
 ],
 "metadata": {
  "kernelspec": {
   "display_name": "Escritorio de Dados - Default",
   "language": "python",
   "name": "default"
  },
  "language_info": {
   "codemirror_mode": {
    "name": "ipython",
    "version": 3
   },
   "file_extension": ".py",
   "mimetype": "text/x-python",
   "name": "python",
   "nbconvert_exporter": "python",
   "pygments_lexer": "ipython3",
   "version": "3.9.18"
  }
 },
 "nbformat": 4,
 "nbformat_minor": 5
}
